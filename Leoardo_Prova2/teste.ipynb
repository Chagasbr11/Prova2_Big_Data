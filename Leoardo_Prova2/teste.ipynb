{
 "cells": [
  {
   "cell_type": "code",
   "execution_count": null,
   "metadata": {},
   "outputs": [],
   "source": [
    "# Pergunta-1: Analise a distribuição dos casos confirmados de coronavírus por faixa \n",
    "etária e sexo no estado do Rio de Janeiro. Quais faixas etárias apresentam maior \n",
    "incidência de casos confirmados? Há diferenças significativas entre homens e mulheres \n",
    "em relação à faixa etária mais afetada? "
   ]
  },
  {
   "cell_type": "code",
   "execution_count": null,
   "metadata": {},
   "outputs": [],
   "source": [
    "import pandas as pd\n",
    "import matplotlib.pyplot as plt\n",
    "import seaborn as sns\n",
    "\n",
    "# Importar o dataset\n",
    "df = pd.read_csv('coronavirus_rj.csv')  # Verifique o nome do arquivo correto\n",
    "\n",
    "# Agrupar os casos confirmados por faixa etária e sexo\n",
    "faixa_etaria_sexo = df.groupby(['faixa_etaria', 'sexo'])['casos_confirmados'].sum().reset_index()\n",
    "\n",
    "# Gráfico de distribuição\n",
    "plt.figure(figsize=(12, 6))\n",
    "sns.barplot(x='faixa_etaria', y='casos_confirmados', hue='sexo', data=faixa_etaria_sexo)\n",
    "plt.title('Distribuição dos Casos Confirmados por Faixa Etária e Sexo')\n",
    "plt.xlabel('Faixa Etária')\n",
    "plt.ylabel('Casos Confirmados')\n",
    "plt.xticks(rotation=45)\n",
    "plt.legend(title='Sexo')\n",
    "plt.tight_layout()\n",
    "plt.show()\n",
    "\n",
    "# Exibir faixa etária com maior incidência\n",
    "maior_incidencia = faixa_etaria_sexo.groupby('faixa_etaria')['casos_confirmados'].sum().idxmax()\n",
    "print(f'A faixa etária com maior incidência de casos confirmados é: {maior_incidencia}')\n"
   ]
  },
  {
   "cell_type": "markdown",
   "metadata": {},
   "source": [
    "\n",
    "# Pergunta-2: Em quais bairros do Rio de Janeiro há maior taxa de hospitalizações e \n",
    "internações em UTI entre os casos confirmados de COVID-19? Existem bairros onde \n",
    "essas taxas são mais altas, independentemente da faixa etária ou sexo?\n"
   ]
  },
  {
   "cell_type": "code",
   "execution_count": null,
   "metadata": {},
   "outputs": [],
   "source": [
    "import pandas as pd\n",
    "import matplotlib.pyplot as plt\n",
    "\n",
    "# Importar o dataset\n",
    "df = pd.read_csv('coronavirus_rj.csv')\n",
    "\n",
    "# Calcular a taxa de hospitalizações e UTI por bairro\n",
    "df['taxa_hospitalizacao'] = (df['hospitalizacoes'] / df['casos_confirmados']) * 100\n",
    "df['taxa_uti'] = (df['internacoes_uti'] / df['casos_confirmados']) * 100\n",
    "\n",
    "bairros_hospitalizacao = df.groupby('bairro')[['taxa_hospitalizacao', 'taxa_uti']].mean().sort_values(by='taxa_hospitalizacao', ascending=False)\n",
    "\n",
    "# Gráfico dos bairros com maior taxa de hospitalização\n",
    "bairros_hospitalizacao.head(10).plot(kind='bar', stacked=True, figsize=(12, 6))\n",
    "plt.title('Bairros com Maior Taxa de Hospitalizações e Internações em UTI')\n",
    "plt.xlabel('Bairro')\n",
    "plt.ylabel('Taxa (%)')\n",
    "plt.legend(['Hospitalizações', 'UTI'])\n",
    "plt.tight_layout()\n",
    "plt.show()\n",
    "\n",
    "# Exibir os 5 bairros com maior taxa\n",
    "print(\"Top 5 bairros com maior taxa de hospitalizações:\")\n",
    "print(bairros_hospitalizacao.head(5))\n"
   ]
  },
  {
   "cell_type": "markdown",
   "metadata": {},
   "source": [
    "# Pergunta-3: Compare a média de idade e a taxa de óbitos em diferentes bairros do Rio \n",
    "de Janeiro. Há bairros com uma média de idade mais alta que apresentam maior taxa \n",
    "de mortalidade? Qual seria a explicação para essas diferenças?\n"
   ]
  },
  {
   "cell_type": "code",
   "execution_count": null,
   "metadata": {},
   "outputs": [],
   "source": [
    "import pandas as pd\n",
    "import matplotlib.pyplot as plt\n",
    "import seaborn as sns\n",
    "\n",
    "# Importar o dataset\n",
    "df = pd.read_csv('coronavirus_rj.csv')\n",
    "\n",
    "# Calcular a média de idade e a taxa de óbitos por bairro\n",
    "df['taxa_obitos'] = (df['obitos'] / df['casos_confirmados']) * 100\n",
    "bairros_idade_obitos = df.groupby('bairro')[['idade_media', 'taxa_obitos']].mean()\n",
    "\n",
    "# Gráfico da média de idade e taxa de óbitos por bairro\n",
    "plt.figure(figsize=(12, 6))\n",
    "sns.scatterplot(x='idade_media', y='taxa_obitos', data=bairros_idade_obitos)\n",
    "plt.title('Média de Idade vs Taxa de Óbitos por Bairro')\n",
    "plt.xlabel('Média de Idade')\n",
    "plt.ylabel('Taxa de Óbitos (%)')\n",
    "plt.tight_layout()\n",
    "plt.show()\n",
    "\n",
    "# Exibir os 5 bairros com maior taxa de óbitos\n",
    "print(\"Top 5 bairros com maior taxa de óbitos:\")\n",
    "print(bairros_idade_obitos.sort_values(by='taxa_obitos', ascending=False).head(5)) \n"
   ]
  }
 ],
 "metadata": {
  "kernelspec": {
   "display_name": ".venv",
   "language": "python",
   "name": "python3"
  },
  "language_info": {
   "codemirror_mode": {
    "name": "ipython",
    "version": 3
   },
   "file_extension": ".py",
   "mimetype": "text/x-python",
   "name": "python",
   "nbconvert_exporter": "python",
   "pygments_lexer": "ipython3",
   "version": "3.12.7"
  }
 },
 "nbformat": 4,
 "nbformat_minor": 2
}
